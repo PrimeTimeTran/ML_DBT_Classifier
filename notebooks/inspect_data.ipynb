{
 "cells": [
  {
   "cell_type": "markdown",
   "metadata": {},
   "source": [
    "## Setup Environment"
   ]
  },
  {
   "cell_type": "code",
   "execution_count": 2,
   "metadata": {},
   "outputs": [
    {
     "name": "stdout",
     "output_type": "stream",
     "text": [
      "Requirement already satisfied: pydicom in /opt/anaconda3/lib/python3.11/site-packages (2.4.4)\n",
      "Requirement already satisfied: pandas in /opt/anaconda3/lib/python3.11/site-packages (2.0.2)\n",
      "Requirement already satisfied: numpy in /opt/anaconda3/lib/python3.11/site-packages (1.26.4)\n",
      "Requirement already satisfied: matplotlib in /opt/anaconda3/lib/python3.11/site-packages (3.7.1)\n",
      "Requirement already satisfied: scikit-image in /opt/anaconda3/lib/python3.11/site-packages (0.21.0)\n",
      "Requirement already satisfied: pylibjpeg in /opt/anaconda3/lib/python3.11/site-packages (2.0.0)\n",
      "Requirement already satisfied: pylibjpeg-openjpeg in /opt/anaconda3/lib/python3.11/site-packages (2.2.1)\n",
      "Requirement already satisfied: python-dateutil>=2.8.2 in /opt/anaconda3/lib/python3.11/site-packages (from pandas) (2.8.2)\n",
      "Requirement already satisfied: pytz>=2020.1 in /opt/anaconda3/lib/python3.11/site-packages (from pandas) (2023.3)\n",
      "Requirement already satisfied: tzdata>=2022.1 in /opt/anaconda3/lib/python3.11/site-packages (from pandas) (2023.3)\n",
      "Requirement already satisfied: contourpy>=1.0.1 in /opt/anaconda3/lib/python3.11/site-packages (from matplotlib) (1.1.0)\n",
      "Requirement already satisfied: cycler>=0.10 in /opt/anaconda3/lib/python3.11/site-packages (from matplotlib) (0.11.0)\n",
      "Requirement already satisfied: fonttools>=4.22.0 in /opt/anaconda3/lib/python3.11/site-packages (from matplotlib) (4.40.0)\n",
      "Requirement already satisfied: kiwisolver>=1.0.1 in /opt/anaconda3/lib/python3.11/site-packages (from matplotlib) (1.4.4)\n",
      "Requirement already satisfied: packaging>=20.0 in /opt/anaconda3/lib/python3.11/site-packages (from matplotlib) (23.2)\n",
      "Requirement already satisfied: pillow>=6.2.0 in /opt/anaconda3/lib/python3.11/site-packages (from matplotlib) (9.5.0)\n",
      "Requirement already satisfied: pyparsing>=2.3.1 in /opt/anaconda3/lib/python3.11/site-packages (from matplotlib) (3.1.0)\n",
      "Requirement already satisfied: scipy>=1.8 in /opt/anaconda3/lib/python3.11/site-packages (from scikit-image) (1.10.1)\n",
      "Requirement already satisfied: networkx>=2.8 in /opt/anaconda3/lib/python3.11/site-packages (from scikit-image) (3.1)\n",
      "Requirement already satisfied: imageio>=2.27 in /opt/anaconda3/lib/python3.11/site-packages (from scikit-image) (2.31.1)\n",
      "Requirement already satisfied: tifffile>=2022.8.12 in /opt/anaconda3/lib/python3.11/site-packages (from scikit-image) (2023.4.12)\n",
      "Requirement already satisfied: PyWavelets>=1.1.1 in /opt/anaconda3/lib/python3.11/site-packages (from scikit-image) (1.4.1)\n",
      "Requirement already satisfied: lazy_loader>=0.2 in /opt/anaconda3/lib/python3.11/site-packages (from scikit-image) (0.2)\n",
      "Requirement already satisfied: six>=1.5 in /opt/anaconda3/lib/python3.11/site-packages (from python-dateutil>=2.8.2->pandas) (1.16.0)\n"
     ]
    }
   ],
   "source": [
    "!pip install pydicom pandas numpy matplotlib scikit-image pylibjpeg pylibjpeg-openjpeg"
   ]
  },
  {
   "cell_type": "markdown",
   "metadata": {},
   "source": [
    "Use the following directory structure to follow along more easily.\n",
    "All data will live inside the tmp directory.\n",
    "The initial_data directory will hold the .tcia files used to download the DICOMs.\n",
    "Each group of img data will live inside it's corresponding group data, test, train, validation.\n",
    "\n",
    "tmp\n",
    "├── initial_data\n",
    "├── test\n",
    "│   ├── imgs\n",
    "│   └── manifest-1617905855234\n",
    "├── train\n",
    "│   ├── imgs\n",
    "│   └── manifest-1617905855234\n",
    "└── validation\n",
    "    ├── imgs\n",
    "    └── manifest-1617905855234"
   ]
  },
  {
   "cell_type": "code",
   "execution_count": 3,
   "metadata": {},
   "outputs": [],
   "source": [
    "import os\n",
    "import sys\n",
    "\n",
    "parent_dir = os.path.abspath(os.path.join(os.getcwd(), os.pardir))\n",
    "set_type = 'train'\n",
    "boxes_file_path = f\"../tmp/{set_type}/BCS-DBT-boxes-{set_type}-v2.csv\"\n",
    "labels_file_path = f\"../tmp/{set_type}/BCS-DBT-labels-{set_type}-v2.csv\"\n",
    "data_set_file_path = f\"../tmp/{set_type}/BCS-DBT-file-paths-{set_type}-v2 copy.csv\"\n",
    "\n",
    "sys.path.append(parent_dir)"
   ]
  },
  {
   "cell_type": "code",
   "execution_count": 4,
   "metadata": {},
   "outputs": [],
   "source": [
    "%matplotlib inline\n",
    "import pandas as pd\n",
    "import matplotlib.pyplot as plt\n",
    "\n",
    "from src.dcm_reader import view_image\n",
    "df = pd.read_csv(data_set_file_path)"
   ]
  },
  {
   "cell_type": "markdown",
   "metadata": {},
   "source": [
    "## View Dicoms"
   ]
  },
  {
   "cell_type": "code",
   "execution_count": null,
   "metadata": {},
   "outputs": [],
   "source": [
    "view_image(set_type, df, plt, 0)"
   ]
  },
  {
   "cell_type": "code",
   "execution_count": null,
   "metadata": {},
   "outputs": [],
   "source": [
    "view_image(set_type, df, plt, 1)"
   ]
  },
  {
   "cell_type": "code",
   "execution_count": null,
   "metadata": {},
   "outputs": [],
   "source": [
    "view_image(set_type, df, plt, 2)"
   ]
  },
  {
   "cell_type": "code",
   "execution_count": null,
   "metadata": {},
   "outputs": [],
   "source": [
    "view_image(set_type, df, plt, 3)"
   ]
  },
  {
   "cell_type": "markdown",
   "metadata": {},
   "source": [
    "## Cleanup "
   ]
  },
  {
   "cell_type": "markdown",
   "metadata": {},
   "source": [
    "## Data\n",
    "Our data isn't consistent. Let's get a feel for"
   ]
  },
  {
   "cell_type": "code",
   "execution_count": 11,
   "metadata": {},
   "outputs": [
    {
     "name": "stdout",
     "output_type": "stream",
     "text": [
      " # Images  # Patients\n",
      "        1          11\n",
      "        2          84\n",
      "        3           3\n",
      "        4        4264\n"
     ]
    }
   ],
   "source": [
    "patient_counts = df['PatientID'].value_counts()\n",
    "occurrence_counts = patient_counts.value_counts().sort_index()\n",
    "summary_df = pd.DataFrame({\n",
    "    '# Images': occurrence_counts.index,\n",
    "    '# Patients': occurrence_counts.values\n",
    "})\n",
    "\n",
    "print(summary_df.to_string(index=False))\n"
   ]
  },
  {
   "cell_type": "code",
   "execution_count": 9,
   "metadata": {},
   "outputs": [
    {
     "name": "stdout",
     "output_type": "stream",
     "text": [
      "     Category  # Patients  Percentage\n",
      "0      Normal        4083       93.60\n",
      "1  Actionable         178        4.08\n",
      "2      Benign          62        1.42\n",
      "3      Cancer          39        0.89\n"
     ]
    }
   ],
   "source": [
    "df_labels = pd.read_csv(labels_file_path)\n",
    "\n",
    "grouped = df_labels.groupby('PatientID').agg({\n",
    "    'Normal': 'sum',\n",
    "    'Actionable': 'max',\n",
    "    'Benign': 'max',\n",
    "    'Cancer': 'max'\n",
    "}).reset_index()\n",
    "\n",
    "normal_count = grouped[(grouped['Actionable'] == 0) & (grouped['Benign'] == 0) & (grouped['Cancer'] == 0)]['PatientID'].count()\n",
    "actionable_count = grouped[grouped['Actionable'] == 1]['PatientID'].count()\n",
    "benign_count = grouped[grouped['Benign'] == 1]['PatientID'].count()\n",
    "cancer_count = grouped[grouped['Cancer'] == 1]['PatientID'].count()\n",
    "\n",
    "total_patients = len(grouped)\n",
    "normal_percentage = round((normal_count / total_patients) * 100,2)\n",
    "benign_percentage = round((benign_count / total_patients) * 100,2)\n",
    "cancer_percentage = round((cancer_count / total_patients) * 100,2)\n",
    "actionable_percentage = round((actionable_count / total_patients) * 100,2)\n",
    "\n",
    "summary_df = pd.DataFrame({\n",
    "    'Category': ['Normal', 'Actionable', 'Benign', 'Cancer'],\n",
    "    '# Patients': [normal_count, actionable_count, benign_count, cancer_count],\n",
    "    'Percentage': [normal_percentage, actionable_percentage, benign_percentage, cancer_percentage]\n",
    "})\n",
    "\n",
    "print(summary_df)"
   ]
  },
  {
   "cell_type": "markdown",
   "metadata": {},
   "source": [
    "## Generate PNGs"
   ]
  },
  {
   "cell_type": "code",
   "execution_count": 26,
   "metadata": {},
   "outputs": [
    {
     "name": "stdout",
     "output_type": "stream",
     "text": [
      "\n",
      "Actionable PatientIDs:\n",
      "['DBT-P00023', 'DBT-P00161', 'DBT-P00183', 'DBT-P00259', 'DBT-P00270', 'DBT-P00304', 'DBT-P00310', 'DBT-P00315', 'DBT-P00395', 'DBT-P00411', 'DBT-P00488', 'DBT-P00491', 'DBT-P00499', 'DBT-P00642', 'DBT-P00644', 'DBT-P00661', 'DBT-P00688', 'DBT-P00710', 'DBT-P00754', 'DBT-P00785', 'DBT-P00822', 'DBT-P00833', 'DBT-P00851', 'DBT-P00858', 'DBT-P00869', 'DBT-P00890', 'DBT-P00892', 'DBT-P00910', 'DBT-P00933', 'DBT-P00942', 'DBT-P00946', 'DBT-P00986', 'DBT-P00988', 'DBT-P00992', 'DBT-P01021', 'DBT-P01027', 'DBT-P01042', 'DBT-P01054', 'DBT-P01106', 'DBT-P01157', 'DBT-P01194', 'DBT-P01202', 'DBT-P01211', 'DBT-P01238', 'DBT-P01319', 'DBT-P01388', 'DBT-P01411', 'DBT-P01434', 'DBT-P01447', 'DBT-P01476', 'DBT-P01485', 'DBT-P01491', 'DBT-P01517', 'DBT-P01553', 'DBT-P01668', 'DBT-P01687', 'DBT-P01761', 'DBT-P01796', 'DBT-P01822', 'DBT-P01868', 'DBT-P01940', 'DBT-P01973', 'DBT-P01978', 'DBT-P01999', 'DBT-P02118', 'DBT-P02136', 'DBT-P02143', 'DBT-P02161', 'DBT-P02178', 'DBT-P02191', 'DBT-P02205', 'DBT-P02224', 'DBT-P02236', 'DBT-P02244', 'DBT-P02250', 'DBT-P02298', 'DBT-P02316', 'DBT-P02365', 'DBT-P02370', 'DBT-P02384', 'DBT-P02390', 'DBT-P02435', 'DBT-P02447', 'DBT-P02461', 'DBT-P02479', 'DBT-P02502', 'DBT-P02504', 'DBT-P02525', 'DBT-P02544', 'DBT-P02554', 'DBT-P02600', 'DBT-P02680', 'DBT-P02684', 'DBT-P02695', 'DBT-P02821', 'DBT-P02865', 'DBT-P02868', 'DBT-P02885', 'DBT-P02891', 'DBT-P02896', 'DBT-P02928', 'DBT-P02967', 'DBT-P02977', 'DBT-P03014', 'DBT-P03051', 'DBT-P03093', 'DBT-P03120', 'DBT-P03150', 'DBT-P03170', 'DBT-P03172', 'DBT-P03225', 'DBT-P03231', 'DBT-P03307', 'DBT-P03357', 'DBT-P03413', 'DBT-P03417', 'DBT-P03434', 'DBT-P03462', 'DBT-P03479', 'DBT-P03514', 'DBT-P03537', 'DBT-P03568', 'DBT-P03637', 'DBT-P03680', 'DBT-P03685', 'DBT-P03716', 'DBT-P03733', 'DBT-P03855', 'DBT-P03877', 'DBT-P03926', 'DBT-P03973', 'DBT-P03997', 'DBT-P04020', 'DBT-P04024', 'DBT-P04035', 'DBT-P04044', 'DBT-P04088', 'DBT-P04093', 'DBT-P04094', 'DBT-P04096', 'DBT-P04103', 'DBT-P04124', 'DBT-P04162', 'DBT-P04180', 'DBT-P04192', 'DBT-P04196', 'DBT-P04199', 'DBT-P04249', 'DBT-P04264', 'DBT-P04271', 'DBT-P04277', 'DBT-P04290', 'DBT-P04291', 'DBT-P04384', 'DBT-P04432', 'DBT-P04450', 'DBT-P04514', 'DBT-P04526', 'DBT-P04546', 'DBT-P04609', 'DBT-P04647', 'DBT-P04662', 'DBT-P04667', 'DBT-P04691', 'DBT-P04708', 'DBT-P04715', 'DBT-P04723', 'DBT-P04756', 'DBT-P04760', 'DBT-P04813', 'DBT-P04879', 'DBT-P04881', 'DBT-P04897', 'DBT-P04904', 'DBT-P04905', 'DBT-P04949', 'DBT-P04992', 'DBT-P05053']\n",
      "\n",
      "Benign PatientIDs:\n",
      "['DBT-P00013', 'DBT-P00024', 'DBT-P00060', 'DBT-P00225', 'DBT-P00361', 'DBT-P00684', 'DBT-P00784', 'DBT-P00818', 'DBT-P00827', 'DBT-P01130', 'DBT-P01181', 'DBT-P01241', 'DBT-P01262', 'DBT-P01282', 'DBT-P01439', 'DBT-P01461', 'DBT-P01488', 'DBT-P01587', 'DBT-P01626', 'DBT-P01718', 'DBT-P01751', 'DBT-P01753', 'DBT-P01817', 'DBT-P01839', 'DBT-P02065', 'DBT-P02171', 'DBT-P02227', 'DBT-P02380', 'DBT-P02471', 'DBT-P02493', 'DBT-P02579', 'DBT-P02588', 'DBT-P02736', 'DBT-P02750', 'DBT-P02798', 'DBT-P02843', 'DBT-P02919', 'DBT-P03009', 'DBT-P03017', 'DBT-P03073', 'DBT-P03085', 'DBT-P03176', 'DBT-P03203', 'DBT-P03212', 'DBT-P03218', 'DBT-P03423', 'DBT-P03458', 'DBT-P03539', 'DBT-P03658', 'DBT-P03677', 'DBT-P03748', 'DBT-P03816', 'DBT-P03978', 'DBT-P04116', 'DBT-P04326', 'DBT-P04429', 'DBT-P04721', 'DBT-P04750', 'DBT-P04818', 'DBT-P04858', 'DBT-P05022', 'DBT-P05047']\n",
      "\n",
      "Cancer PatientIDs:\n",
      "['DBT-P00107', 'DBT-P00194', 'DBT-P00303', 'DBT-P00538', 'DBT-P00583', 'DBT-P00654', 'DBT-P01110', 'DBT-P01112', 'DBT-P01139', 'DBT-P01267', 'DBT-P01347', 'DBT-P01493', 'DBT-P01539', 'DBT-P01624', 'DBT-P01673', 'DBT-P01712', 'DBT-P01745', 'DBT-P01801', 'DBT-P01826', 'DBT-P02100', 'DBT-P02133', 'DBT-P02176', 'DBT-P02510', 'DBT-P02532', 'DBT-P02582', 'DBT-P02738', 'DBT-P02935', 'DBT-P03222', 'DBT-P03292', 'DBT-P03915', 'DBT-P04026', 'DBT-P04090', 'DBT-P04372', 'DBT-P04631', 'DBT-P04710', 'DBT-P04901', 'DBT-P05014', 'DBT-P05030', 'DBT-P05056']\n"
     ]
    }
   ],
   "source": [
    "grouped = df_labels.groupby('PatientID').agg({\n",
    "    'Normal': 'sum',\n",
    "    'Actionable': 'max',\n",
    "    'Benign': 'max',\n",
    "    'Cancer': 'max'\n",
    "}).reset_index()\n",
    "\n",
    "actionable_patients = grouped[grouped['Actionable'] == 1]['PatientID'].tolist()\n",
    "benign_patients = grouped[grouped['Benign'] == 1]['PatientID'].tolist()\n",
    "cancer_patients = grouped[grouped['Cancer'] == 1]['PatientID'].tolist()\n",
    "\n",
    "print(\"\\nActionable PatientIDs:\")\n",
    "print(actionable_patients)\n",
    "\n",
    "print(\"\\nBenign PatientIDs:\")\n",
    "print(benign_patients)\n",
    "\n",
    "print(\"\\nCancer PatientIDs:\")\n",
    "print(cancer_patients)"
   ]
  }
 ],
 "metadata": {
  "kernelspec": {
   "display_name": "Python 3",
   "language": "python",
   "name": "python3"
  },
  "language_info": {
   "codemirror_mode": {
    "name": "ipython",
    "version": 3
   },
   "file_extension": ".py",
   "mimetype": "text/x-python",
   "name": "python",
   "nbconvert_exporter": "python",
   "pygments_lexer": "ipython3",
   "version": "3.11.5"
  }
 },
 "nbformat": 4,
 "nbformat_minor": 4
}
